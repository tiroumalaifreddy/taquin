{
 "cells": [
  {
   "cell_type": "code",
   "execution_count": 1,
   "metadata": {},
   "outputs": [],
   "source": [
    "import numpy as np\n",
    "import random\n",
    "from math import floor"
   ]
  },
  {
   "cell_type": "code",
   "execution_count": 2,
   "metadata": {},
   "outputs": [],
   "source": [
    "\n",
    "MIN_SIZE = 2\n",
    "MAX_SIZE = 10\n",
    "DEFAULT_SIZE = 4\n"
   ]
  },
  {
   "cell_type": "code",
   "execution_count": 3,
   "metadata": {},
   "outputs": [],
   "source": [
    "#Function to assert the builded grid is solvable\n",
    "def is_solvable(grid):\n",
    "    flat_grid = grid.flatten() \n",
    "    \n",
    "    inversions = 0\n",
    "    for i in range(len(flat_grid)):\n",
    "        for j in range(i + 1, len(flat_grid)):\n",
    "            if flat_grid[j] and flat_grid[i] and flat_grid[i] > flat_grid[j]:\n",
    "                inversions += 1\n",
    "    return inversions % 2 == 0\n",
    "\n",
    "def build_line(start_symb, stop_symb, sep_symb, line):\n",
    "    return '\\n%s%s%s\\n' % (start_symb, sep_symb.join(line), stop_symb)"
   ]
  },
  {
   "cell_type": "code",
   "execution_count": 4,
   "metadata": {},
   "outputs": [],
   "source": [
    "# State : Correspond a la grid\n",
    "# Actions: Dé deplacer :\n",
    "#0: dé en haut\n",
    "#1: dé a gauche\n",
    "#2: dé en bas\n",
    "#3: dé à droite\n",
    "\n",
    "class Grid :\n",
    "    def __init__(self,size=DEFAULT_SIZE) -> None:\n",
    "        assert size>=MIN_SIZE and size <= MAX_SIZE\n",
    "        self.size=size\n",
    "\n",
    "        while True:\n",
    "            grid=list(range(size**2))\n",
    "            random.shuffle(grid)\n",
    "            grid=np.asarray(grid).reshape(size, size)\n",
    "            if is_solvable(grid):break\n",
    "        self.state=grid\n",
    "\n",
    "\n",
    "    def take_action(self,action):\n",
    "        pass\n",
    "\n",
    "    def is_finish(self):\n",
    "        ended_grid=[i for i in range(1,self.size**2)]\n",
    "        ended_grid.append(0)\n",
    "        return np.array_equal(\n",
    "            self.state,\n",
    "            np.asarray(ended_grid).reshape(grid.size,grid.size)\n",
    "            )\n",
    "    \n",
    "    def get_possible_actions(self)-> list[int]:\n",
    "        \"\"\"return the possible actions\"\"\"\n",
    "        actions=[i for i in range(0,4)]\n",
    "        pos_empty=self.get_empty_position()\n",
    "        if pos_empty[0]==0 : actions.remove(0)\n",
    "        elif pos_empty[0]==(self.size-1):actions.remove(2)\n",
    "        if pos_empty[1]==0:actions.remove(1)\n",
    "        elif pos_empty[1]==(self.size-1):actions.remove(3)\n",
    "        return  actions\n",
    "    \n",
    "    def get_empty_position(self)->tuple:\n",
    "        \"\"\"Return the position od the tuple\"\"\"\n",
    "        return floor(np.argmin(self.state)/self.size),np.argmin(self.state)%self.size\n",
    "\n",
    "\n",
    "    def __str__(self) -> str:\n",
    "        \"\"\"Renderer\"\"\"\n",
    "        tile_line = np.full(self.size, '─' * 4).tolist()\n",
    "        horizontal_line = build_line('├', '┤', '┼', tile_line)\n",
    "        first_horizontal_line = build_line('┌', '┐', '┬', tile_line)\n",
    "        last_horizontal_line = build_line('└', '┘', '┴', tile_line)\n",
    "        grid_to_show = first_horizontal_line\n",
    "        for count, row in enumerate(self.state):\n",
    "            grid_to_show += '│'\n",
    "            for tile in row:\n",
    "                if tile == 0:\n",
    "                    tile = '  '\n",
    "                grid_to_show += ' %s │' % '{0:>2}'.format(tile)\n",
    "            if not count == self.size - 1:\n",
    "                grid_to_show += horizontal_line\n",
    "        grid_to_show += last_horizontal_line\n",
    "        grid_to_show+=f\"\\n Possible actions: {self.get_possible_actions()}\"\n",
    "        return grid_to_show\n",
    "        \n",
    "    "
   ]
  },
  {
   "cell_type": "code",
   "execution_count": 5,
   "metadata": {},
   "outputs": [
    {
     "name": "stdout",
     "output_type": "stream",
     "text": [
      "\n",
      "┌────┬────┬────┐\n",
      "│  8 │  7 │  5 │\n",
      "├────┼────┼────┤\n",
      "│  1 │  6 │    │\n",
      "├────┼────┼────┤\n",
      "│  4 │  2 │  3 │\n",
      "└────┴────┴────┘\n",
      "\n",
      " Possible actions: [0, 1, 2]\n"
     ]
    },
    {
     "data": {
      "text/plain": [
       "False"
      ]
     },
     "execution_count": 5,
     "metadata": {},
     "output_type": "execute_result"
    }
   ],
   "source": [
    "grid=Grid(size=3)\n",
    "print(grid)\n",
    "grid.is_finish()"
   ]
  },
  {
   "cell_type": "code",
   "execution_count": null,
   "metadata": {},
   "outputs": [],
   "source": [
    "class Game:\n",
    "    def __init__(self) -> None:\n",
    "        self.grid=Grid()\n",
    "        self.end=false\n",
    "        self.round=0\n",
    "        self.reward=0\n",
    "        self.sum_reward=0\n",
    "        self.actions=[]# list of all actions done in the game\n",
    "\n",
    "    def play_round(self,function_agent):\n",
    "        \"\"\"function_agent : fonction de choix de l'agent\"\"\"\n",
    "        pass\n",
    "\n",
    "\n",
    "    def play_game(self):\n",
    "        while not self.end:\n",
    "            reward,state,action,flag=self.play_round()\n",
    "            self.reward=reward\n",
    "            self.sum_reward+=reward\n",
    "            self.actions.append(action)\n",
    "            self.end=flag\n",
    "            self.round+=1\n",
    "\n",
    "\n",
    "    def __str__(self):\n",
    "        game_to_show=f\"---- {self.round} ----------\\n\"\n",
    "        game_to_show+=self.grid.__str__()\n",
    "        game_to_show+=f\"\\nReward Round{self.reward} \\nReward cum:{self.sum_reward}\"\n",
    "        return game_to_show\n",
    "\n",
    "\n"
   ]
  },
  {
   "cell_type": "code",
   "execution_count": null,
   "metadata": {},
   "outputs": [],
   "source": [
    "def act()"
   ]
  }
 ],
 "metadata": {
  "kernelspec": {
   "display_name": "venv",
   "language": "python",
   "name": "python3"
  },
  "language_info": {
   "codemirror_mode": {
    "name": "ipython",
    "version": 3
   },
   "file_extension": ".py",
   "mimetype": "text/x-python",
   "name": "python",
   "nbconvert_exporter": "python",
   "pygments_lexer": "ipython3",
   "version": "3.10.6"
  },
  "orig_nbformat": 4
 },
 "nbformat": 4,
 "nbformat_minor": 2
}

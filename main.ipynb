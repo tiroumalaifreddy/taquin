{
 "cells": [
  {
   "attachments": {},
   "cell_type": "markdown",
   "metadata": {},
   "source": [
    "* Alexandre BIDON\n",
    "* Adrien MARQUER\n",
    "* Jean-Alain MOREL\n",
    "* Freddy TIROUMALAI"
   ]
  },
  {
   "attachments": {},
   "cell_type": "markdown",
   "metadata": {},
   "source": [
    "# Jeu du taquin"
   ]
  },
  {
   "attachments": {},
   "cell_type": "markdown",
   "metadata": {},
   "source": [
    "## Imports"
   ]
  },
  {
   "cell_type": "code",
   "execution_count": 26,
   "metadata": {},
   "outputs": [],
   "source": [
    "from code.Agent import Agent\n",
    "from code.Game import Game\n",
    "\n",
    "from code.Agents.RandomAgent import RandomAgent\n",
    "from code.Agents.QlearningAgent import QLearningAgent\n",
    "from code.Agents.SarsaAgent import SarsaAgent\n",
    "from code.Agents.MonteCarloAgent import MonteCarloAgent"
   ]
  },
  {
   "attachments": {},
   "cell_type": "markdown",
   "metadata": {},
   "source": [
    "Ce notebook présente les différents agents implémentés et leur manière de résoudre le jeu du taquin. Chaque agent résoud le jeu dont l'état initial est identique afin de rendre la comparaison plus aisée."
   ]
  },
  {
   "attachments": {},
   "cell_type": "markdown",
   "metadata": {},
   "source": [
    "## Random Agent"
   ]
  },
  {
   "cell_type": "code",
   "execution_count": 27,
   "metadata": {},
   "outputs": [],
   "source": [
    "randomAgent = RandomAgent()"
   ]
  },
  {
   "cell_type": "code",
   "execution_count": 251,
   "metadata": {},
   "outputs": [
    {
     "name": "stdout",
     "output_type": "stream",
     "text": [
      "ply\n",
      "---- 1 ----------\n",
      "\n",
      "┌────┬────┐\n",
      "│  3 │  1 │\n",
      "├────┼────┤\n",
      "│    │  2 │\n",
      "└────┴────┘\n",
      "\n",
      " Possible actions: [0, 3]\n",
      "Reward Round: 0 \n",
      "Reward cum: -11\n",
      "---- 2 ----------\n",
      "\n",
      "┌────┬────┐\n",
      "│    │  1 │\n",
      "├────┼────┤\n",
      "│  3 │  2 │\n",
      "└────┴────┘\n",
      "\n",
      " Possible actions: [2, 3]\n",
      "Reward Round: 0 \n",
      "Reward cum: 88\n",
      "---- 3 ----------\n",
      "\n",
      "┌────┬────┐\n",
      "│  1 │    │\n",
      "├────┼────┤\n",
      "│  3 │  2 │\n",
      "└────┴────┘\n",
      "\n",
      " Possible actions: [1, 2]\n",
      "Reward Round: 0 \n",
      "Reward cum: 187\n",
      "---- 4 ----------\n",
      "\n",
      "┌────┬────┐\n",
      "│    │  1 │\n",
      "├────┼────┤\n",
      "│  3 │  2 │\n",
      "└────┴────┘\n",
      "\n",
      " Possible actions: [2, 3]\n",
      "Reward Round: 0 \n",
      "Reward cum: 176\n",
      "---- 5 ----------\n",
      "\n",
      "┌────┬────┐\n",
      "│  1 │    │\n",
      "├────┼────┤\n",
      "│  3 │  2 │\n",
      "└────┴────┘\n",
      "\n",
      " Possible actions: [1, 2]\n",
      "Reward Round: 0 \n",
      "Reward cum: 165\n",
      "---- 6 ----------\n",
      "\n",
      "┌────┬────┐\n",
      "│  1 │  2 │\n",
      "├────┼────┤\n",
      "│  3 │    │\n",
      "└────┴────┘\n",
      "\n",
      " Possible actions: [0, 1]\n",
      "Reward Round: 0 \n",
      "Reward cum: 50164\n"
     ]
    },
    {
     "data": {
      "text/plain": [
       "True"
      ]
     },
     "execution_count": 251,
     "metadata": {},
     "output_type": "execute_result"
    }
   ],
   "source": [
    "Game().play_game(agent=randomAgent,\n",
    "               stop=1000,\n",
    "               print_game=True,\n",
    "               train=True)"
   ]
  },
  {
   "cell_type": "code",
   "execution_count": 252,
   "metadata": {},
   "outputs": [
    {
     "name": "stdout",
     "output_type": "stream",
     "text": [
      "Number of round played: 6\n"
     ]
    }
   ],
   "source": [
    "print(f\"Number of round played: {randomAgent.played_round}\")"
   ]
  },
  {
   "attachments": {},
   "cell_type": "markdown",
   "metadata": {},
   "source": [
    "## QLearner"
   ]
  },
  {
   "cell_type": "code",
   "execution_count": 172,
   "metadata": {},
   "outputs": [],
   "source": [
    "qlearner=QLearningAgent(size=Game().grid.size)"
   ]
  },
  {
   "cell_type": "code",
   "execution_count": 226,
   "metadata": {},
   "outputs": [
    {
     "name": "stdout",
     "output_type": "stream",
     "text": [
      "ply\n",
      "---- 1 ----------\n",
      "\n",
      "┌────┬────┐\n",
      "│  3 │  1 │\n",
      "├────┼────┤\n",
      "│    │  2 │\n",
      "└────┴────┘\n",
      "\n",
      " Possible actions: [0, 3]\n",
      "Reward Round: 0 \n",
      "Reward cum: -11\n",
      "---- 2 ----------\n",
      "\n",
      "┌────┬────┐\n",
      "│    │  1 │\n",
      "├────┼────┤\n",
      "│  3 │  2 │\n",
      "└────┴────┘\n",
      "\n",
      " Possible actions: [2, 3]\n",
      "Reward Round: 0 \n",
      "Reward cum: 88\n",
      "---- 3 ----------\n",
      "\n",
      "┌────┬────┐\n",
      "│  3 │  1 │\n",
      "├────┼────┤\n",
      "│    │  2 │\n",
      "└────┴────┘\n",
      "\n",
      " Possible actions: [0, 3]\n",
      "Reward Round: 0 \n",
      "Reward cum: 77\n",
      "---- 4 ----------\n",
      "\n",
      "┌────┬────┐\n",
      "│    │  1 │\n",
      "├────┼────┤\n",
      "│  3 │  2 │\n",
      "└────┴────┘\n",
      "\n",
      " Possible actions: [2, 3]\n",
      "Reward Round: 0 \n",
      "Reward cum: 66\n",
      "---- 5 ----------\n",
      "\n",
      "┌────┬────┐\n",
      "│  1 │    │\n",
      "├────┼────┤\n",
      "│  3 │  2 │\n",
      "└────┴────┘\n",
      "\n",
      " Possible actions: [1, 2]\n",
      "Reward Round: 0 \n",
      "Reward cum: 165\n",
      "---- 6 ----------\n",
      "\n",
      "┌────┬────┐\n",
      "│  1 │  2 │\n",
      "├────┼────┤\n",
      "│  3 │    │\n",
      "└────┴────┘\n",
      "\n",
      " Possible actions: [0, 1]\n",
      "Reward Round: 0 \n",
      "Reward cum: 50164\n"
     ]
    },
    {
     "data": {
      "text/plain": [
       "True"
      ]
     },
     "execution_count": 226,
     "metadata": {},
     "output_type": "execute_result"
    }
   ],
   "source": [
    "Game().play_game(agent=qlearner,\n",
    "               stop=1000,\n",
    "               print_game=True,\n",
    "               train=True)"
   ]
  },
  {
   "cell_type": "code",
   "execution_count": 227,
   "metadata": {},
   "outputs": [
    {
     "name": "stdout",
     "output_type": "stream",
     "text": [
      "Number of round played: 6\n"
     ]
    }
   ],
   "source": [
    "print(f\"Number of round played: {qlearner.played_round}\")"
   ]
  },
  {
   "attachments": {},
   "cell_type": "markdown",
   "metadata": {},
   "source": [
    "## SARSA"
   ]
  },
  {
   "cell_type": "code",
   "execution_count": 64,
   "metadata": {},
   "outputs": [],
   "source": [
    "sarsaAgent = SarsaAgent(size=Game().grid.size)"
   ]
  },
  {
   "cell_type": "code",
   "execution_count": 65,
   "metadata": {},
   "outputs": [
    {
     "name": "stdout",
     "output_type": "stream",
     "text": [
      "ply\n",
      "---- 1 ----------\n",
      "\n",
      "┌────┬────┐\n",
      "│  3 │  1 │\n",
      "├────┼────┤\n",
      "│    │  2 │\n",
      "└────┴────┘\n",
      "\n",
      " Possible actions: [0, 3]\n",
      "Reward Round: 0 \n",
      "Reward cum: -11\n",
      "---- 2 ----------\n",
      "\n",
      "┌────┬────┐\n",
      "│  3 │  1 │\n",
      "├────┼────┤\n",
      "│  2 │    │\n",
      "└────┴────┘\n",
      "\n",
      " Possible actions: [0, 1]\n",
      "Reward Round: 0 \n",
      "Reward cum: 88\n",
      "---- 3 ----------\n",
      "\n",
      "┌────┬────┐\n",
      "│  3 │  1 │\n",
      "├────┼────┤\n",
      "│    │  2 │\n",
      "└────┴────┘\n",
      "\n",
      " Possible actions: [0, 3]\n",
      "Reward Round: 0 \n",
      "Reward cum: 77\n",
      "---- 4 ----------\n",
      "\n",
      "┌────┬────┐\n",
      "│  3 │  1 │\n",
      "├────┼────┤\n",
      "│  2 │    │\n",
      "└────┴────┘\n",
      "\n",
      " Possible actions: [0, 1]\n",
      "Reward Round: 0 \n",
      "Reward cum: 66\n",
      "---- 5 ----------\n",
      "\n",
      "┌────┬────┐\n",
      "│  3 │  1 │\n",
      "├────┼────┤\n",
      "│    │  2 │\n",
      "└────┴────┘\n",
      "\n",
      " Possible actions: [0, 3]\n",
      "Reward Round: 0 \n",
      "Reward cum: 55\n",
      "---- 6 ----------\n",
      "\n",
      "┌────┬────┐\n",
      "│    │  1 │\n",
      "├────┼────┤\n",
      "│  3 │  2 │\n",
      "└────┴────┘\n",
      "\n",
      " Possible actions: [2, 3]\n",
      "Reward Round: 0 \n",
      "Reward cum: 44\n",
      "---- 7 ----------\n",
      "\n",
      "┌────┬────┐\n",
      "│  1 │    │\n",
      "├────┼────┤\n",
      "│  3 │  2 │\n",
      "└────┴────┘\n",
      "\n",
      " Possible actions: [1, 2]\n",
      "Reward Round: 0 \n",
      "Reward cum: 143\n",
      "---- 8 ----------\n",
      "\n",
      "┌────┬────┐\n",
      "│    │  1 │\n",
      "├────┼────┤\n",
      "│  3 │  2 │\n",
      "└────┴────┘\n",
      "\n",
      " Possible actions: [2, 3]\n",
      "Reward Round: 0 \n",
      "Reward cum: 132\n",
      "---- 9 ----------\n",
      "\n",
      "┌────┬────┐\n",
      "│  3 │  1 │\n",
      "├────┼────┤\n",
      "│    │  2 │\n",
      "└────┴────┘\n",
      "\n",
      " Possible actions: [0, 3]\n",
      "Reward Round: 0 \n",
      "Reward cum: 121\n",
      "---- 10 ----------\n",
      "\n",
      "┌────┬────┐\n",
      "│    │  1 │\n",
      "├────┼────┤\n",
      "│  3 │  2 │\n",
      "└────┴────┘\n",
      "\n",
      " Possible actions: [2, 3]\n",
      "Reward Round: 0 \n",
      "Reward cum: 110\n",
      "---- 11 ----------\n",
      "\n",
      "┌────┬────┐\n",
      "│  3 │  1 │\n",
      "├────┼────┤\n",
      "│    │  2 │\n",
      "└────┴────┘\n",
      "\n",
      " Possible actions: [0, 3]\n",
      "Reward Round: 0 \n",
      "Reward cum: 99\n",
      "---- 12 ----------\n",
      "\n",
      "┌────┬────┐\n",
      "│    │  1 │\n",
      "├────┼────┤\n",
      "│  3 │  2 │\n",
      "└────┴────┘\n",
      "\n",
      " Possible actions: [2, 3]\n",
      "Reward Round: 0 \n",
      "Reward cum: 88\n",
      "---- 13 ----------\n",
      "\n",
      "┌────┬────┐\n",
      "│  1 │    │\n",
      "├────┼────┤\n",
      "│  3 │  2 │\n",
      "└────┴────┘\n",
      "\n",
      " Possible actions: [1, 2]\n",
      "Reward Round: 0 \n",
      "Reward cum: 77\n",
      "---- 14 ----------\n",
      "\n",
      "┌────┬────┐\n",
      "│  1 │  2 │\n",
      "├────┼────┤\n",
      "│  3 │    │\n",
      "└────┴────┘\n",
      "\n",
      " Possible actions: [0, 1]\n",
      "Reward Round: 0 \n",
      "Reward cum: 50076\n"
     ]
    },
    {
     "data": {
      "text/plain": [
       "True"
      ]
     },
     "execution_count": 65,
     "metadata": {},
     "output_type": "execute_result"
    }
   ],
   "source": [
    "Game().play_game(agent=sarsaAgent,\n",
    "               stop=1000,\n",
    "               print_game=True,\n",
    "               train=True)"
   ]
  },
  {
   "cell_type": "code",
   "execution_count": 44,
   "metadata": {},
   "outputs": [
    {
     "name": "stdout",
     "output_type": "stream",
     "text": [
      "Number of round played: 17\n"
     ]
    }
   ],
   "source": [
    "print(f\"Number of round played: {sarsaAgent.played_round}\")"
   ]
  },
  {
   "attachments": {},
   "cell_type": "markdown",
   "metadata": {},
   "source": [
    "## Monte Carlo"
   ]
  },
  {
   "cell_type": "code",
   "execution_count": 45,
   "metadata": {},
   "outputs": [],
   "source": [
    "mcLearner=MonteCarloAgent(size=Game().grid.size)"
   ]
  },
  {
   "cell_type": "code",
   "execution_count": 46,
   "metadata": {},
   "outputs": [
    {
     "name": "stdout",
     "output_type": "stream",
     "text": [
      "ply\n",
      "---- 1 ----------\n",
      "\n",
      "┌────┬────┐\n",
      "│  3 │  1 │\n",
      "├────┼────┤\n",
      "│    │  2 │\n",
      "└────┴────┘\n",
      "\n",
      " Possible actions: [0, 3]\n",
      "Reward Round: 0 \n",
      "Reward cum: -11\n",
      "---- 2 ----------\n",
      "\n",
      "┌────┬────┐\n",
      "│    │  1 │\n",
      "├────┼────┤\n",
      "│  3 │  2 │\n",
      "└────┴────┘\n",
      "\n",
      " Possible actions: [2, 3]\n",
      "Reward Round: 0 \n",
      "Reward cum: 88\n",
      "---- 3 ----------\n",
      "\n",
      "┌────┬────┐\n",
      "│  3 │  1 │\n",
      "├────┼────┤\n",
      "│    │  2 │\n",
      "└────┴────┘\n",
      "\n",
      " Possible actions: [0, 3]\n",
      "Reward Round: 0 \n",
      "Reward cum: 77\n",
      "---- 4 ----------\n",
      "\n",
      "┌────┬────┐\n",
      "│    │  1 │\n",
      "├────┼────┤\n",
      "│  3 │  2 │\n",
      "└────┴────┘\n",
      "\n",
      " Possible actions: [2, 3]\n",
      "Reward Round: 0 \n",
      "Reward cum: 66\n",
      "---- 5 ----------\n",
      "\n",
      "┌────┬────┐\n",
      "│  1 │    │\n",
      "├────┼────┤\n",
      "│  3 │  2 │\n",
      "└────┴────┘\n",
      "\n",
      " Possible actions: [1, 2]\n",
      "Reward Round: 0 \n",
      "Reward cum: 165\n",
      "---- 6 ----------\n",
      "\n",
      "┌────┬────┐\n",
      "│  1 │  2 │\n",
      "├────┼────┤\n",
      "│  3 │    │\n",
      "└────┴────┘\n",
      "\n",
      " Possible actions: [0, 1]\n",
      "Reward Round: 0 \n",
      "Reward cum: 50164\n",
      "updated\n",
      "updated\n",
      "updated\n",
      "updated\n"
     ]
    },
    {
     "data": {
      "text/plain": [
       "True"
      ]
     },
     "execution_count": 46,
     "metadata": {},
     "output_type": "execute_result"
    }
   ],
   "source": [
    "\n",
    "Game().play_game(agent=mcLearner,\n",
    "               stop=1000,\n",
    "               print_game=True,\n",
    "               train=True)"
   ]
  },
  {
   "cell_type": "code",
   "execution_count": 47,
   "metadata": {},
   "outputs": [
    {
     "name": "stdout",
     "output_type": "stream",
     "text": [
      "Number of round played: 6\n"
     ]
    }
   ],
   "source": [
    "print(f\"Number of round played: {mcLearner.played_round}\")"
   ]
  },
  {
   "cell_type": "code",
   "execution_count": 253,
   "metadata": {},
   "outputs": [
    {
     "name": "stdout",
     "output_type": "stream",
     "text": [
      "N  dict at the end of the first game\n",
      "{((3, 1, 2, 0), 1): 1, ((3, 1, 0, 2), 0): 1, ((0, 1, 3, 2), 2): 1, ((1, 0, 3, 2), 2): 1}\n"
     ]
    }
   ],
   "source": [
    "print(\"N  dict at the end of the first game\")\n",
    "print(mcLearner.N)"
   ]
  },
  {
   "cell_type": "code",
   "execution_count": 254,
   "metadata": {},
   "outputs": [
    {
     "name": "stdout",
     "output_type": "stream",
     "text": [
      "Q dict at the end of the first game\n",
      "{((3, 1, 2, 0), 1): 5.76928, ((3, 1, 0, 2), 0): 5.2992, ((0, 1, 3, 2), 2): 5.888, ((1, 0, 3, 2), 2): 2.0}\n"
     ]
    }
   ],
   "source": [
    "print(\"Q dict at the end of the first game\")\n",
    "print(mcLearner.Q)"
   ]
  }
 ],
 "metadata": {
  "language_info": {
   "name": "python"
  },
  "orig_nbformat": 4
 },
 "nbformat": 4,
 "nbformat_minor": 2
}

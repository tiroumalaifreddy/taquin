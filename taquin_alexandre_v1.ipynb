{
  "cells": [
    {
      "cell_type": "code",
      "execution_count": 54,
      "metadata": {
        "id": "RJ8FAT4iV5jq"
      },
      "outputs": [],
      "source": [
        "import numpy as np\n",
        "import random\n",
        "from math import floor"
      ]
    },
    {
      "cell_type": "code",
      "execution_count": 55,
      "metadata": {
        "id": "BNNVUq6JV5js"
      },
      "outputs": [],
      "source": [
        "\n",
        "MIN_SIZE = 2\n",
        "MAX_SIZE = 10\n",
        "\n"
      ]
    },
    {
      "cell_type": "code",
      "execution_count": 56,
      "metadata": {
        "id": "ZGDCKNAlV5jt"
      },
      "outputs": [],
      "source": [
        "#Function to assert the builded grid is solvable\n",
        "def is_solvable(grid):\n",
        "    flat_grid = grid.flatten() \n",
        "    \n",
        "    inversions = 0\n",
        "    for i in range(len(flat_grid)):\n",
        "        for j in range(i + 1, len(flat_grid)):\n",
        "            if flat_grid[j] and flat_grid[i] and flat_grid[i] > flat_grid[j]:\n",
        "                inversions += 1\n",
        "    return inversions % 2 == 0\n",
        "\n",
        "def build_line(start_symb, stop_symb, sep_symb, line):\n",
        "    return '\\n%s%s%s\\n' % (start_symb, sep_symb.join(line), stop_symb)"
      ]
    },
    {
      "cell_type": "code",
      "execution_count": 57,
      "metadata": {
        "id": "DrO3ypVrV5jt"
      },
      "outputs": [],
      "source": [
        "# State : Correspond a la grid\n",
        "# Actions: Dé deplacer :\n",
        "#0: dé en haut\n",
        "#1: dé a gauche\n",
        "#2: dé en bas\n",
        "#3: dé à droite\n",
        "\n",
        "class Grid :\n",
        "    def __init__(self,size=3) -> None:\n",
        "        assert size>=MIN_SIZE and size <= MAX_SIZE\n",
        "        self.size=size\n",
        "\n",
        "        while True:\n",
        "            grid=list(range(size**2))\n",
        "            random.shuffle(grid)\n",
        "            grid=np.asarray(grid).reshape(size, size)\n",
        "            if is_solvable(grid):break\n",
        "        self.state=grid\n",
        "\n",
        "\n",
        "    def take_action(self,action):\n",
        "      i, j = np.where(self.state == 0)\n",
        "      if len(i) > 0 and len(j) > 0:\n",
        "        i = i[0]\n",
        "        j = j[0]\n",
        "        if action == 0:\n",
        "            if i > 0:\n",
        "                self.state[i][j], self.state[i-1][j] = self.state[i-1][j], self.state[i][j]\n",
        "        elif action == 2:\n",
        "            if i < self.size-1:\n",
        "                self.state[i][j], self.state[i+1][j] = self.state[i+1][j], self.state[i][j]\n",
        "        elif action ==1:\n",
        "            if j > 0:\n",
        "                self.state[i][j], self.state[i][j-1] = self.state[i][j-1], self.state[i][j]\n",
        "        elif action == 3:\n",
        "            if j < self.size-1:\n",
        "                self.state[i][j], self.state[i][j+1] = self.state[i][j+1], self.state[i][j]\n",
        "\n",
        "    def is_finish(self):\n",
        "        ended_grid=[i for i in range(1,self.size**2)]\n",
        "        ended_grid.append(0)\n",
        "        return np.array_equal(\n",
        "            self.state,\n",
        "            np.asarray(ended_grid).reshape(self.size,self.size)\n",
        "            )\n",
        "    \n",
        "    def get_possible_actions(self)-> list[int]:\n",
        "        \"\"\"return the possible actions\"\"\"\n",
        "        actions=[i for i in range(0,4)]\n",
        "        pos_empty=self.get_empty_position()\n",
        "        if pos_empty[0]==0 : actions.remove(0)\n",
        "        elif pos_empty[0]==(self.size-1):actions.remove(2)\n",
        "        if pos_empty[1]==0:actions.remove(1)\n",
        "        elif pos_empty[1]==(self.size-1):actions.remove(3)\n",
        "        return  actions\n",
        "    \n",
        "    def get_empty_position(self)->tuple:\n",
        "        \"\"\"Return the position od the tuple\"\"\"\n",
        "        return floor(np.argmin(self.state)/self.size),np.argmin(self.state)%self.size\n",
        "\n",
        "    def get_good_place(self):\n",
        "      ended_grid=[i for i in range(1,self.size**2)]\n",
        "      ended_grid.append(0)\n",
        "      return (np.asarray(ended_grid).reshape(self.size,self.size) == self.state ).sum()\n",
        "\n",
        "\n",
        "\n",
        "    def __str__(self) -> str:\n",
        "        \"\"\"Renderer\"\"\"\n",
        "        tile_line = np.full(self.size, '─' * 4).tolist()\n",
        "        horizontal_line = build_line('├', '┤', '┼', tile_line)\n",
        "        first_horizontal_line = build_line('┌', '┐', '┬', tile_line)\n",
        "        last_horizontal_line = build_line('└', '┘', '┴', tile_line)\n",
        "        grid_to_show = first_horizontal_line\n",
        "        for count, row in enumerate(self.state):\n",
        "            grid_to_show += '│'\n",
        "            for tile in row:\n",
        "                if tile == 0:\n",
        "                    tile = '  '\n",
        "                grid_to_show += ' %s │' % '{0:>2}'.format(tile)\n",
        "            if not count == self.size - 1:\n",
        "                grid_to_show += horizontal_line\n",
        "        grid_to_show += last_horizontal_line\n",
        "        grid_to_show+=f\"\\n Possible actions: {self.get_possible_actions()}\"\n",
        "        return grid_to_show\n",
        "        \n",
        "    "
      ]
    },
    {
      "cell_type": "code",
      "execution_count": 58,
      "metadata": {
        "colab": {
          "base_uri": "https://localhost:8080/"
        },
        "id": "yhIp1GV0V5ju",
        "outputId": "399d84b9-a35c-4491-845d-e9219429b3b4"
      },
      "outputs": [
        {
          "name": "stdout",
          "output_type": "stream",
          "text": [
            "[[1 6 3]\n",
            " [7 5 8]\n",
            " [0 2 4]]\n"
          ]
        },
        {
          "data": {
            "text/plain": [
              "False"
            ]
          },
          "execution_count": 58,
          "metadata": {},
          "output_type": "execute_result"
        }
      ],
      "source": [
        "grid=Grid(size=3)\n",
        "print(grid.state)\n",
        "grid.is_finish()"
      ]
    },
    {
      "cell_type": "code",
      "execution_count": 59,
      "metadata": {
        "id": "wtYvA0-xW_SN"
      },
      "outputs": [],
      "source": [
        "import numpy as np\n",
        "\n",
        "class Qlearning:\n",
        "    def __init__(self, actions, alpha=0.1, gamma=0.9, epsilon=0.1,size=2):\n",
        "        self.Q = {}\n",
        "        self.actions = actions\n",
        "        self.alpha = alpha\n",
        "        self.gamma = gamma\n",
        "        self.epsilon = epsilon\n",
        "        self.size=size**2\n",
        "\n",
        "    def get_Q(self, state, action):\n",
        "        if tuple(state.reshape(self.size)) not in self.Q:\n",
        "            self.Q[tuple(state.reshape(self.size))] = np.zeros(len(self.actions))\n",
        "        return self.Q[tuple(state.reshape(self.size))][action]\n",
        "\n",
        "    def choose_action(self, state,possible_actions):\n",
        "        if np.random.uniform() < self.epsilon:\n",
        "            # Choose a random action\n",
        "            return np.random.choice(possible_actions)\n",
        "        else:\n",
        "            # Choose the action with the highest Q-value\n",
        "            q_values = [self.get_Q(state, a) for a in possible_actions]\n",
        "            max_q = max(q_values)\n",
        "            if q_values.count(max_q) > 1:\n",
        "                # Multiple actions have the same highest Q-value, choose one randomly\n",
        "                \n",
        "                return possible_actions[np.random.choice(np.flatnonzero(np.array(q_values) == np.array(q_values).max()))]\n",
        "            else:\n",
        "                return possible_actions[np.argmax(q_values)]\n",
        "\n",
        "    def update(self, state, action, reward, next_state):\n",
        "        old_Q = self.get_Q(state, action)\n",
        "        next_max_Q = max([self.get_Q(next_state, a) for a in self.actions])\n",
        "        new_Q = old_Q + self.alpha * (reward + self.gamma * next_max_Q - old_Q)\n",
        "        #print(action,reward)\n",
        "        self.Q[tuple(state.reshape(self.size))][action] = new_Q\n",
        "        #print(self.Q)\n"
      ]
    },
    {
      "cell_type": "code",
      "execution_count": 60,
      "metadata": {
        "id": "2s3A90_0EJFf"
      },
      "outputs": [],
      "source": [
        "class Game:\n",
        "  \n",
        "  def __init__(self,size=2) -> None:\n",
        "      self.grid=Grid(size)\n",
        "\n",
        "      self.end=False\n",
        "      self.round=0\n",
        "      self.reward=0\n",
        "      self.sum_reward=0\n",
        "      self.actions=[]# list of all actions done in the game\n",
        "      self.last_good=0\n",
        "      self.number_good_place=0\n",
        "\n",
        "  def play_round(self,action):\n",
        "      \"\"\"function_agent : fonction de choix de l'agent\"\"\"\n",
        "      reward=-1\n",
        "      #action=np.random.randint(0,4)\n",
        "      self.grid.take_action(action)\n",
        "      if self.grid.is_finish():\n",
        "        self.end = True\n",
        "        reward += 50000\n",
        "      \n",
        "      if self.grid.get_good_place() == self.number_good_place + 1:\n",
        "        reward += 100\n",
        "        self.last_good += 1\n",
        "        self.number_good_place += 1\n",
        "      elif self.grid.get_good_place() <= self.number_good_place:\n",
        "        reward -= 10\n",
        "\n",
        "      return reward,self.grid.state,action\n",
        "\n",
        "\n",
        "  def play_game(self,qlearner,stop=100000, print_game=False):\n",
        "      while not self.end:\n",
        "          state=self.grid.state.copy()\n",
        "          action = qlearner.choose_action(state,self.grid.get_possible_actions())\n",
        "\n",
        "          reward,next_state,action=self.play_round(action)\n",
        "          \n",
        "          qlearner.update(state, action, reward, next_state)\n",
        "\n",
        "          self.sum_reward+=reward\n",
        "          if self.round > stop:\n",
        "            return False\n",
        "            break\n",
        "          self.round+=1\n",
        "          if print_game :\n",
        "            print(f\"round: {self.round}\")\n",
        "            print(f\"action: {action}\")\n",
        "            print(f\"Sum of reward: {self.sum_reward}\")\n",
        "            print(self.grid)\n",
        "      return True\n",
        "\n",
        "  def __str__(self):\n",
        "      game_to_show=f\"---- {self.round} ----------\\n\"\n",
        "      game_to_show+=self.grid.__str__()\n",
        "      game_to_show+=f\"\\nReward Round{self.reward} \\nReward cum:{self.sum_reward}\"\n",
        "      return game_to_show"
      ]
    },
    {
      "cell_type": "code",
      "execution_count": 61,
      "metadata": {
        "colab": {
          "base_uri": "https://localhost:8080/"
        },
        "id": "mnxkQzR_UOJv",
        "outputId": "7816bad9-2f9f-45b7-8dca-638db21cfc18"
      },
      "outputs": [
        {
          "data": {
            "text/plain": [
              "1"
            ]
          },
          "execution_count": 61,
          "metadata": {},
          "output_type": "execute_result"
        }
      ],
      "source": [
        "np.random.choice(np.flatnonzero(np.array([9,29,9,9]) == np.array([9,29,9,9]).max()))"
      ]
    },
    {
      "cell_type": "code",
      "execution_count": 62,
      "metadata": {
        "id": "9o_2v8psMRc2"
      },
      "outputs": [],
      "source": [
        "size=3\n",
        "qlearner = Qlearning(actions=[0, 1, 2, 3],size=size)\n",
        "qlearner.epsilon=0.7"
      ]
    },
    {
      "cell_type": "markdown",
      "metadata": {
        "id": "Ko6qHAcTBsnr"
      },
      "source": [
        "### 1000 games With max of 25000 round (epsilon 0.7)"
      ]
    },
    {
      "cell_type": "code",
      "execution_count": 2,
      "metadata": {
        "colab": {
          "base_uri": "https://localhost:8080/"
        },
        "id": "UdEQDf53UGzV",
        "outputId": "1cda55e3-384b-438b-bf07-8c456a82af8e"
      },
      "outputs": [
        {
          "ename": "NameError",
          "evalue": "name 'Game' is not defined",
          "output_type": "error",
          "traceback": [
            "\u001b[1;31m---------------------------------------------------------------------------\u001b[0m",
            "\u001b[1;31mNameError\u001b[0m                                 Traceback (most recent call last)",
            "\u001b[1;32mc:\\Users\\alexa\\Documents\\GitHub\\taquin\\taquin_alexandre_v1.ipynb Cell 11\u001b[0m in \u001b[0;36m5\n\u001b[0;32m      <a href='vscode-notebook-cell:/c%3A/Users/alexa/Documents/GitHub/taquin/taquin_alexandre_v1.ipynb#X13sZmlsZQ%3D%3D?line=2'>3</a>\u001b[0m print_game \u001b[39m=\u001b[39m \u001b[39mFalse\u001b[39;00m\n\u001b[0;32m      <a href='vscode-notebook-cell:/c%3A/Users/alexa/Documents/GitHub/taquin/taquin_alexandre_v1.ipynb#X13sZmlsZQ%3D%3D?line=3'>4</a>\u001b[0m \u001b[39mfor\u001b[39;00m i \u001b[39min\u001b[39;00m \u001b[39mrange\u001b[39m(nb_game):\n\u001b[1;32m----> <a href='vscode-notebook-cell:/c%3A/Users/alexa/Documents/GitHub/taquin/taquin_alexandre_v1.ipynb#X13sZmlsZQ%3D%3D?line=4'>5</a>\u001b[0m   game \u001b[39m=\u001b[39m Game(size\u001b[39m=\u001b[39msize)\n\u001b[0;32m      <a href='vscode-notebook-cell:/c%3A/Users/alexa/Documents/GitHub/taquin/taquin_alexandre_v1.ipynb#X13sZmlsZQ%3D%3D?line=5'>6</a>\u001b[0m   \u001b[39mround\u001b[39m\u001b[39m=\u001b[39m\u001b[39m0\u001b[39m\n\u001b[0;32m      <a href='vscode-notebook-cell:/c%3A/Users/alexa/Documents/GitHub/taquin/taquin_alexandre_v1.ipynb#X13sZmlsZQ%3D%3D?line=6'>7</a>\u001b[0m   res\u001b[39m=\u001b[39mgame\u001b[39m.\u001b[39mplay_game(qlearner,\u001b[39m1000\u001b[39m, print_game \u001b[39m=\u001b[39m print_game)\n",
            "\u001b[1;31mNameError\u001b[0m: name 'Game' is not defined"
          ]
        }
      ],
      "source": [
        "nb_game = 2000\n",
        "win=0\n",
        "print_game = False\n",
        "for i in range(nb_game):\n",
        "  game = Game(size=size)\n",
        "  round=0\n",
        "  res=game.play_game(qlearner,1000, print_game = print_game)\n",
        "  if res:\n",
        "    win+=1\n",
        "  print(f\"Game {i} : {res} - Win rate : {win/(i + 1)}\")"
      ]
    },
    {
      "cell_type": "code",
      "execution_count": 74,
      "metadata": {
        "colab": {
          "base_uri": "https://localhost:8080/"
        },
        "id": "G4p0k09Vj6fy",
        "outputId": "39b168f7-c2ee-46b0-80f1-f3c849b114e3"
      },
      "outputs": [
        {
          "data": {
            "text/plain": [
              "495"
            ]
          },
          "execution_count": 74,
          "metadata": {},
          "output_type": "execute_result"
        }
      ],
      "source": [
        "win"
      ]
    },
    {
      "cell_type": "code",
      "execution_count": 75,
      "metadata": {},
      "outputs": [],
      "source": [
        "np.save(\"qlearner_alex_v1\", qlearner.Q)"
      ]
    }
  ],
  "metadata": {
    "colab": {
      "provenance": []
    },
    "kernelspec": {
      "display_name": "Python 3",
      "language": "python",
      "name": "python3"
    },
    "language_info": {
      "codemirror_mode": {
        "name": "ipython",
        "version": 3
      },
      "file_extension": ".py",
      "mimetype": "text/x-python",
      "name": "python",
      "nbconvert_exporter": "python",
      "pygments_lexer": "ipython3",
      "version": "3.9.5"
    },
    "orig_nbformat": 4,
    "vscode": {
      "interpreter": {
        "hash": "f3d42ad487b2b2994e012ab0306cc0a65d83ea9d079e1ade1e8453053e613de7"
      }
    }
  },
  "nbformat": 4,
  "nbformat_minor": 0
}
